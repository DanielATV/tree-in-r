{
 "cells": [
  {
   "cell_type": "markdown",
   "metadata": {
    "slideshow": {
     "slide_type": "slide"
    }
   },
   "source": [
    "# Ayudantía Árboles de Clasificación en R"
   ]
  },
  {
   "cell_type": "code",
   "execution_count": 42,
   "metadata": {
    "slideshow": {
     "slide_type": "skip"
    }
   },
   "outputs": [],
   "source": [
    "library(repr)\n",
    "options(repr.plot.width=5,repr.plot.height=3)"
   ]
  },
  {
   "cell_type": "markdown",
   "metadata": {
    "slideshow": {
     "slide_type": "fragment"
    }
   },
   "source": [
    "Antes de comenzar necesitamos instalar el paquete a utilizar para crear nuestros árboles de decisión, para esto utilizamos el siguiente comando desde la terminal de R:\n",
    "\n",
    "~~~\n",
    "install.packages(\"tree\")\n",
    "~~~\n",
    "O si utilizar R Studio puedes instalarlo seleccionando _**Tools $\\leftarrow$ Install Packages**_ en la barra de herramientas.\n",
    "\n",
    "Una vez tenemos el Package instalado, lo importamos con el siguiente comando."
   ]
  },
  {
   "cell_type": "code",
   "execution_count": 22,
   "metadata": {
    "slideshow": {
     "slide_type": "fragment"
    }
   },
   "outputs": [],
   "source": [
    "library(tree)"
   ]
  },
  {
   "cell_type": "markdown",
   "metadata": {
    "slideshow": {
     "slide_type": "slide"
    }
   },
   "source": [
    "Para comenzar necesitamos cargar los datos que utilizaremos."
   ]
  },
  {
   "cell_type": "code",
   "execution_count": 23,
   "metadata": {
    "slideshow": {
     "slide_type": "fragment"
    }
   },
   "outputs": [],
   "source": [
    "data <- read.table(\"DatosControl.csv\",header=TRUE, sep=\",\")"
   ]
  },
  {
   "cell_type": "markdown",
   "metadata": {
    "slideshow": {
     "slide_type": "fragment"
    }
   },
   "source": [
    "Para Revisar los datos de una columna en particular, por ejemplo NotaFinal, se consulta de la siguiente manera.\n",
    "\n",
    "~~~\n",
    "data$NotaFinal\n",
    "~~~\n"
   ]
  },
  {
   "cell_type": "markdown",
   "metadata": {
    "slideshow": {
     "slide_type": "slide"
    }
   },
   "source": [
    "Por otro lado, podemos consultar la cantidad de datos por cada posible valor de una columna, por ejemplo la columna NotaFinal, que es la que nos interesa predecir."
   ]
  },
  {
   "cell_type": "code",
   "execution_count": 24,
   "metadata": {
    "slideshow": {
     "slide_type": "fragment"
    }
   },
   "outputs": [
    {
     "data": {
      "text/plain": [
       "NotaFinal\n",
       " <55 >=55 \n",
       " 325  545 "
      ]
     },
     "metadata": {},
     "output_type": "display_data"
    }
   ],
   "source": [
    "xtabs(~ NotaFinal,data = data)"
   ]
  },
  {
   "cell_type": "markdown",
   "metadata": {
    "slideshow": {
     "slide_type": "slide"
    }
   },
   "source": [
    "También podemos ver esta información en un gráfico de barras."
   ]
  },
  {
   "cell_type": "code",
   "execution_count": 43,
   "metadata": {
    "slideshow": {
     "slide_type": "fragment"
    }
   },
   "outputs": [
    {
     "data": {
      "image/png": "[encoded data removed]",
      "text/plain": [
       "Plot with title \"Nota Final\""
      ]
     },
     "metadata": {},
     "output_type": "display_data"
    }
   ],
   "source": [
    "counts <- table(data$NotaFinal)\n",
    "barplot(counts, main=\"Nota Final\")"
   ]
  },
  {
   "cell_type": "markdown",
   "metadata": {
    "slideshow": {
     "slide_type": "fragment"
    }
   },
   "source": [
    "Como se ve, el número de datos por cada clase a predecir no es igual _**¿Qué problemas podría traer esto?**_"
   ]
  },
  {
   "cell_type": "markdown",
   "metadata": {
    "slideshow": {
     "slide_type": "slide"
    }
   },
   "source": [
    "Por otro lado, tal como vieron en clases, necesitamos separar nuestro conjunto de datos en un subconjunto de entrenamiento y uno de pruebas _**¿Cuál es la importancia de este paso?**_"
   ]
  },
  {
   "cell_type": "code",
   "execution_count": 26,
   "metadata": {
    "slideshow": {
     "slide_type": "fragment"
    }
   },
   "outputs": [],
   "source": [
    "# Queremos obtener siempre lo mismo\n",
    "set.seed(42)\n",
    "# En este caso utilizaremos un conjunto de entrenamiento del 80% de los datos\n",
    "train_size <- floor(0.80 * nrow(data))\n",
    "train_mask <- sample(seq_len(nrow(data)),size = train_size)\n",
    "# Separamos nuestros conjuntos\n",
    "train <- data[train_mask, ]\n",
    "test <- data[-train_mask, ]"
   ]
  },
  {
   "cell_type": "markdown",
   "metadata": {
    "slideshow": {
     "slide_type": "fragment"
    }
   },
   "source": [
    "Podemos ver la cantidad de datos que tienen nuestros conjuntos creados."
   ]
  },
  {
   "cell_type": "code",
   "execution_count": 27,
   "metadata": {
    "slideshow": {
     "slide_type": "fragment"
    }
   },
   "outputs": [
    {
     "data": {
      "text/html": [
       "870"
      ],
      "text/latex": [
       "870"
      ],
      "text/markdown": [
       "870"
      ],
      "text/plain": [
       "[1] 870"
      ]
     },
     "metadata": {},
     "output_type": "display_data"
    },
    {
     "data": {
      "text/html": [
       "696"
      ],
      "text/latex": [
       "696"
      ],
      "text/markdown": [
       "696"
      ],
      "text/plain": [
       "[1] 696"
      ]
     },
     "metadata": {},
     "output_type": "display_data"
    },
    {
     "data": {
      "text/html": [
       "174"
      ],
      "text/latex": [
       "174"
      ],
      "text/markdown": [
       "174"
      ],
      "text/plain": [
       "[1] 174"
      ]
     },
     "metadata": {},
     "output_type": "display_data"
    }
   ],
   "source": [
    "nrow(data)\n",
    "nrow(train)\n",
    "nrow(test)"
   ]
  },
  {
   "cell_type": "markdown",
   "metadata": {
    "slideshow": {
     "slide_type": "slide"
    }
   },
   "source": [
    "Si revisamos la cantidad de datos por clase a predecir en el conjunto de pruebas, podemos ver la distribución de estas."
   ]
  },
  {
   "cell_type": "code",
   "execution_count": 41,
   "metadata": {
    "slideshow": {
     "slide_type": "fragment"
    }
   },
   "outputs": [
    {
     "data": {
      "image/png": "[encoded data removed]",
      "text/plain": [
       "Plot with title \"Nota Final\""
      ]
     },
     "metadata": {},
     "output_type": "display_data"
    }
   ],
   "source": [
    "barplot(table(test$NotaFinal),main=\"Nota Final\")"
   ]
  },
  {
   "cell_type": "markdown",
   "metadata": {
    "slideshow": {
     "slide_type": "slide"
    }
   },
   "source": [
    "Con nuestros conjuntos separados podemos proceder a crear nuestro árbol de clasificación de la siguiente manera."
   ]
  },
  {
   "cell_type": "code",
   "execution_count": 29,
   "metadata": {
    "slideshow": {
     "slide_type": "fragment"
    }
   },
   "outputs": [
    {
     "data": {
      "text/plain": [
       "\n",
       "Classification tree:\n",
       "tree(formula = NotaFinal ~ Sexo + HorasEstudio + VTR + TiempoLibre + \n",
       "    Carrete + Salud + Inasistencias, data = train)\n",
       "Variables actually used in tree construction:\n",
       "[1] \"VTR\"           \"Inasistencias\" \"TiempoLibre\"  \n",
       "Number of terminal nodes:  4 \n",
       "Residual mean deviance:  1.156 = 800.2 / 692 \n",
       "Misclassification error rate: 0.2744 = 191 / 696 "
      ]
     },
     "metadata": {},
     "output_type": "display_data"
    }
   ],
   "source": [
    "# Creamos el árbol\n",
    "train.tree = tree(NotaFinal ~ Sexo + HorasEstudio + VTR + TiempoLibre + Carrete + Salud + Inasistencias, data=train)\n",
    "# Y mostramos información sobre él\n",
    "summary(train.tree)"
   ]
  },
  {
   "cell_type": "markdown",
   "metadata": {
    "slideshow": {
     "slide_type": "slide"
    }
   },
   "source": [
    "También podemos hacer un plot de nuestro árbol."
   ]
  },
  {
   "cell_type": "code",
   "execution_count": 47,
   "metadata": {
    "slideshow": {
     "slide_type": "skip"
    }
   },
   "outputs": [],
   "source": [
    "options(repr.plot.width=6,repr.plot.height=5)"
   ]
  },
  {
   "cell_type": "code",
   "execution_count": 48,
   "metadata": {
    "slideshow": {
     "slide_type": "fragment"
    }
   },
   "outputs": [
    {
     "data": {
      "image/png": "[encoded data removed]",
      "text/plain": [
       "plot without title"
      ]
     },
     "metadata": {},
     "output_type": "display_data"
    }
   ],
   "source": [
    "plot(train.tree)\n",
    "text(train.tree,pretty = 1)"
   ]
  },
  {
   "cell_type": "markdown",
   "metadata": {
    "slideshow": {
     "slide_type": "slide"
    }
   },
   "source": [
    "_**¿Notan algo raro?**_"
   ]
  },
  {
   "cell_type": "markdown",
   "metadata": {
    "slideshow": {
     "slide_type": "fragment"
    }
   },
   "source": [
    "Sí, pues se está tomando el VTR como variable continua cuando es una variable discreta, así que vamos a discretizar."
   ]
  },
  {
   "cell_type": "code",
   "execution_count": 31,
   "metadata": {
    "slideshow": {
     "slide_type": "fragment"
    }
   },
   "outputs": [],
   "source": [
    "data$Inasistencias = as.factor(data$Inasistencias)\n",
    "data$VTR = as.factor(data$VTR)\n",
    "data$Sexo = as.factor(data$Sexo)\n",
    "data$HorasEstudio = as.factor(data$HorasEstudio)\n",
    "data$TiempoLibre = as.factor(data$TiempoLibre)\n",
    "data$Carrete = as.factor(data$Carrete)\n",
    "data$Salud = as.factor(data$Salud)"
   ]
  },
  {
   "cell_type": "markdown",
   "metadata": {
    "slideshow": {
     "slide_type": "fragment"
    }
   },
   "source": [
    "Con las variables ya discretizadas creamos nuestros conjuntos nuevamente."
   ]
  },
  {
   "cell_type": "code",
   "execution_count": 32,
   "metadata": {
    "slideshow": {
     "slide_type": "fragment"
    }
   },
   "outputs": [],
   "source": [
    "# Queremos obtener siempre lo mismo\n",
    "set.seed(42)\n",
    "# En este caso utilizaremos un conjunto de entrenamiento del 80% de los datos\n",
    "train_size <- floor(0.80 * nrow(data))\n",
    "train_mask <- sample(seq_len(nrow(data)),size = train_size)\n",
    "# Separamos nuestros conjuntos\n",
    "train <- data[train_mask, ]\n",
    "test <- data[-train_mask, ]"
   ]
  },
  {
   "cell_type": "markdown",
   "metadata": {
    "slideshow": {
     "slide_type": "slide"
    }
   },
   "source": [
    "Y finalmente nuestro árbol de clasificación."
   ]
  },
  {
   "cell_type": "code",
   "execution_count": 33,
   "metadata": {
    "slideshow": {
     "slide_type": "fragment"
    }
   },
   "outputs": [
    {
     "data": {
      "text/plain": [
       "\n",
       "Classification tree:\n",
       "tree(formula = NotaFinal ~ Sexo + HorasEstudio + VTR + TiempoLibre + \n",
       "    Carrete + Salud + Inasistencias, data = train)\n",
       "Variables actually used in tree construction:\n",
       "[1] \"VTR\"           \"Inasistencias\"\n",
       "Number of terminal nodes:  6 \n",
       "Residual mean deviance:  1.101 = 759.8 / 690 \n",
       "Misclassification error rate: 0.2744 = 191 / 696 "
      ]
     },
     "metadata": {},
     "output_type": "display_data"
    }
   ],
   "source": [
    "train.tree = tree(NotaFinal ~ Sexo + HorasEstudio + VTR + TiempoLibre + Carrete + Salud + Inasistencias, data=train)\n",
    "summary(train.tree)"
   ]
  },
  {
   "cell_type": "code",
   "execution_count": 49,
   "metadata": {
    "slideshow": {
     "slide_type": "slide"
    }
   },
   "outputs": [
    {
     "data": {
      "image/png": "[encoded data removed]",
      "text/plain": [
       "plot without title"
      ]
     },
     "metadata": {},
     "output_type": "display_data"
    }
   ],
   "source": [
    "plot(train.tree)\n",
    "text(train.tree, pretty = 1)"
   ]
  },
  {
   "cell_type": "markdown",
   "metadata": {
    "slideshow": {
     "slide_type": "slide"
    }
   },
   "source": [
    "Con el siguiente comando podemos ver el árbol nodo a nodo."
   ]
  },
  {
   "cell_type": "code",
   "execution_count": 35,
   "metadata": {
    "slideshow": {
     "slide_type": "fragment"
    }
   },
   "outputs": [
    {
     "data": {
      "text/html": [
       "<table>\n",
       "<caption>A data.frame: 11 × 6</caption>\n",
       "<thead>\n",
       "\t<tr><th></th><th scope=col>var</th><th scope=col>n</th><th scope=col>dev</th><th scope=col>yval</th><th scope=col>splits</th><th scope=col>yprob</th></tr>\n",
       "\t<tr><th></th><th scope=col>&lt;fct&gt;</th><th scope=col>&lt;dbl&gt;</th><th scope=col>&lt;dbl&gt;</th><th scope=col>&lt;fct&gt;</th><th scope=col>&lt;chr[,2]&gt;</th><th scope=col>&lt;dbl[,2]&gt;</th></tr>\n",
       "</thead>\n",
       "<tbody>\n",
       "\t<tr><th scope=row>1</th><td><span style=white-space:pre-wrap>VTR          </span></td><td>696</td><td>932.27826</td><td>&gt;=55</td><td><span style=white-space:pre-wrap>:bc    , :a      </span></td><td>0.3922414, 0.6077586</td></tr>\n",
       "\t<tr><th scope=row>2</th><td>Inasistencias</td><td>113</td><td>119.43458</td><td>&lt;55 </td><td><span style=white-space:pre-wrap>:ahij  , :bcdefgk</span></td><td>0.7787611, 0.2212389</td></tr>\n",
       "\t<tr><th scope=row>4</th><td><span style=white-space:pre-wrap>&lt;leaf&gt;       </span></td><td> 40</td><td> 15.88122</td><td>&lt;55 </td><td><span style=white-space:pre-wrap>       ,         </span></td><td>0.9500000, 0.0500000</td></tr>\n",
       "\t<tr><th scope=row>5</th><td><span style=white-space:pre-wrap>&lt;leaf&gt;       </span></td><td> 73</td><td> 90.97204</td><td>&lt;55 </td><td><span style=white-space:pre-wrap>       ,         </span></td><td>0.6849315, 0.3150685</td></tr>\n",
       "\t<tr><th scope=row>3</th><td>Inasistencias</td><td>583</td><td>728.55881</td><td>&gt;=55</td><td><span style=white-space:pre-wrap>:aehijk, :bcdfg  </span></td><td>0.3173242, 0.6826758</td></tr>\n",
       "\t<tr><th scope=row>6</th><td>Inasistencias</td><td>292</td><td>401.28405</td><td>&gt;=55</td><td><span style=white-space:pre-wrap>:hij   , :aek    </span></td><td>0.4452055, 0.5547945</td></tr>\n",
       "\t<tr><th scope=row>12</th><td><span style=white-space:pre-wrap>&lt;leaf&gt;       </span></td><td> 35</td><td> 37.62811</td><td>&lt;55 </td><td><span style=white-space:pre-wrap>       ,         </span></td><td>0.7714286, 0.2285714</td></tr>\n",
       "\t<tr><th scope=row>13</th><td><span style=white-space:pre-wrap>&lt;leaf&gt;       </span></td><td>257</td><td>346.08953</td><td>&gt;=55</td><td><span style=white-space:pre-wrap>       ,         </span></td><td>0.4007782, 0.5992218</td></tr>\n",
       "\t<tr><th scope=row>7</th><td>Inasistencias</td><td>291</td><td>282.13888</td><td>&gt;=55</td><td><span style=white-space:pre-wrap>:cdfg  , :b      </span></td><td>0.1890034, 0.8109966</td></tr>\n",
       "\t<tr><th scope=row>14</th><td><span style=white-space:pre-wrap>&lt;leaf&gt;       </span></td><td>262</td><td>269.26029</td><td>&gt;=55</td><td><span style=white-space:pre-wrap>       ,         </span></td><td>0.2099237, 0.7900763</td></tr>\n",
       "\t<tr><th scope=row>15</th><td><span style=white-space:pre-wrap>&lt;leaf&gt;       </span></td><td> 29</td><td><span style=white-space:pre-wrap>  0.00000</span></td><td>&gt;=55</td><td><span style=white-space:pre-wrap>       ,         </span></td><td>0.0000000, 1.0000000</td></tr>\n",
       "</tbody>\n",
       "</table>\n"
      ],
      "text/latex": [
       "A data.frame: 11 × 6\n",
       "\\begin{tabular}{r|llllll}\n",
       "  & var & n & dev & yval & splits & yprob\\\\\n",
       "  & <fct> & <dbl> & <dbl> & <fct> & <chr{[},2{]}> & <dbl{[},2{]}>\\\\\n",
       "\\hline\n",
       "\t1 & VTR           & 696 & 932.27826 & >=55 & :bc    , :a       & 0.3922414, 0.6077586\\\\\n",
       "\t2 & Inasistencias & 113 & 119.43458 & <55  & :ahij  , :bcdefgk & 0.7787611, 0.2212389\\\\\n",
       "\t4 & <leaf>        &  40 &  15.88122 & <55  &        ,          & 0.9500000, 0.0500000\\\\\n",
       "\t5 & <leaf>        &  73 &  90.97204 & <55  &        ,          & 0.6849315, 0.3150685\\\\\n",
       "\t3 & Inasistencias & 583 & 728.55881 & >=55 & :aehijk, :bcdfg   & 0.3173242, 0.6826758\\\\\n",
       "\t6 & Inasistencias & 292 & 401.28405 & >=55 & :hij   , :aek     & 0.4452055, 0.5547945\\\\\n",
       "\t12 & <leaf>        &  35 &  37.62811 & <55  &        ,          & 0.7714286, 0.2285714\\\\\n",
       "\t13 & <leaf>        & 257 & 346.08953 & >=55 &        ,          & 0.4007782, 0.5992218\\\\\n",
       "\t7 & Inasistencias & 291 & 282.13888 & >=55 & :cdfg  , :b       & 0.1890034, 0.8109966\\\\\n",
       "\t14 & <leaf>        & 262 & 269.26029 & >=55 &        ,          & 0.2099237, 0.7900763\\\\\n",
       "\t15 & <leaf>        &  29 &   0.00000 & >=55 &        ,          & 0.0000000, 1.0000000\\\\\n",
       "\\end{tabular}\n"
      ],
      "text/markdown": [
       "\n",
       "A data.frame: 11 × 6\n",
       "\n",
       "| <!--/--> | var &lt;fct&gt; | n &lt;dbl&gt; | dev &lt;dbl&gt; | yval &lt;fct&gt; | splits &lt;chr[,2]&gt; | yprob &lt;dbl[,2]&gt; |\n",
       "|---|---|---|---|---|---|---|\n",
       "| 1 | VTR           | 696 | 932.27826 | &gt;=55 | :bc    , :a       | 0.3922414, 0.6077586 |\n",
       "| 2 | Inasistencias | 113 | 119.43458 | &lt;55  | :ahij  , :bcdefgk | 0.7787611, 0.2212389 |\n",
       "| 4 | &lt;leaf&gt;        |  40 |  15.88122 | &lt;55  |        ,          | 0.9500000, 0.0500000 |\n",
       "| 5 | &lt;leaf&gt;        |  73 |  90.97204 | &lt;55  |        ,          | 0.6849315, 0.3150685 |\n",
       "| 3 | Inasistencias | 583 | 728.55881 | &gt;=55 | :aehijk, :bcdfg   | 0.3173242, 0.6826758 |\n",
       "| 6 | Inasistencias | 292 | 401.28405 | &gt;=55 | :hij   , :aek     | 0.4452055, 0.5547945 |\n",
       "| 12 | &lt;leaf&gt;        |  35 |  37.62811 | &lt;55  |        ,          | 0.7714286, 0.2285714 |\n",
       "| 13 | &lt;leaf&gt;        | 257 | 346.08953 | &gt;=55 |        ,          | 0.4007782, 0.5992218 |\n",
       "| 7 | Inasistencias | 291 | 282.13888 | &gt;=55 | :cdfg  , :b       | 0.1890034, 0.8109966 |\n",
       "| 14 | &lt;leaf&gt;        | 262 | 269.26029 | &gt;=55 |        ,          | 0.2099237, 0.7900763 |\n",
       "| 15 | &lt;leaf&gt;        |  29 |   0.00000 | &gt;=55 |        ,          | 0.0000000, 1.0000000 |\n",
       "\n"
      ],
      "text/plain": [
       "   var           n   dev       yval splits            yprob               \n",
       "1  VTR           696 932.27826 >=55 :bc    , :a       0.3922414, 0.6077586\n",
       "2  Inasistencias 113 119.43458 <55  :ahij  , :bcdefgk 0.7787611, 0.2212389\n",
       "4  <leaf>         40  15.88122 <55         ,          0.9500000, 0.0500000\n",
       "5  <leaf>         73  90.97204 <55         ,          0.6849315, 0.3150685\n",
       "3  Inasistencias 583 728.55881 >=55 :aehijk, :bcdfg   0.3173242, 0.6826758\n",
       "6  Inasistencias 292 401.28405 >=55 :hij   , :aek     0.4452055, 0.5547945\n",
       "12 <leaf>         35  37.62811 <55         ,          0.7714286, 0.2285714\n",
       "13 <leaf>        257 346.08953 >=55        ,          0.4007782, 0.5992218\n",
       "7  Inasistencias 291 282.13888 >=55 :cdfg  , :b       0.1890034, 0.8109966\n",
       "14 <leaf>        262 269.26029 >=55        ,          0.2099237, 0.7900763\n",
       "15 <leaf>         29   0.00000 >=55        ,          0.0000000, 1.0000000"
      ]
     },
     "metadata": {},
     "output_type": "display_data"
    }
   ],
   "source": [
    "train.tree$frame"
   ]
  },
  {
   "cell_type": "code",
   "execution_count": 36,
   "metadata": {
    "slideshow": {
     "slide_type": "slide"
    }
   },
   "outputs": [
    {
     "data": {
      "text/plain": [
       "node), split, n, deviance, yval, (yprob)\n",
       "      * denotes terminal node\n",
       "\n",
       " 1) root 696 932.30 >=55 ( 0.3922 0.6078 )  \n",
       "   2) VTR: 1,2 113 119.40 <55 ( 0.7788 0.2212 )  \n",
       "     4) Inasistencias: 0,7,8,9 40  15.88 <55 ( 0.9500 0.0500 ) *\n",
       "     5) Inasistencias: 1,2,3,4,5,6,10 73  90.97 <55 ( 0.6849 0.3151 ) *\n",
       "   3) VTR: 0 583 728.60 >=55 ( 0.3173 0.6827 )  \n",
       "     6) Inasistencias: 0,4,7,8,9,10 292 401.30 >=55 ( 0.4452 0.5548 )  \n",
       "      12) Inasistencias: 7,8,9 35  37.63 <55 ( 0.7714 0.2286 ) *\n",
       "      13) Inasistencias: 0,4,10 257 346.10 >=55 ( 0.4008 0.5992 ) *\n",
       "     7) Inasistencias: 1,2,3,5,6 291 282.10 >=55 ( 0.1890 0.8110 )  \n",
       "      14) Inasistencias: 2,3,5,6 262 269.30 >=55 ( 0.2099 0.7901 ) *\n",
       "      15) Inasistencias: 1 29   0.00 >=55 ( 0.0000 1.0000 ) *"
      ]
     },
     "metadata": {},
     "output_type": "display_data"
    }
   ],
   "source": [
    "train.tree"
   ]
  },
  {
   "cell_type": "markdown",
   "metadata": {
    "slideshow": {
     "slide_type": "slide"
    }
   },
   "source": [
    "Sabemos que este árbol tiene un error de clasificación de 0.2744 _**en entrenamiento**_, veamos como se comporta en el conjunto de pruebas. Para esto, creemos una matriz de confusión."
   ]
  },
  {
   "cell_type": "code",
   "execution_count": 37,
   "metadata": {
    "slideshow": {
     "slide_type": "fragment"
    }
   },
   "outputs": [
    {
     "data": {
      "text/plain": [
       "      \n",
       "pred   <55 >=55\n",
       "  <55   25   20\n",
       "  >=55  27  102"
      ]
     },
     "metadata": {},
     "output_type": "display_data"
    }
   ],
   "source": [
    "# Predecimos los valores del conjunto de test utilizando nuestro árbol\n",
    "pred = predict(train.tree,test,type=\"class\")\n",
    "# Creamos nuestra matriz de confusión\n",
    "conf_matrix <- with(test,table(pred,test$NotaFinal))\n",
    "conf_matrix"
   ]
  },
  {
   "cell_type": "markdown",
   "metadata": {
    "slideshow": {
     "slide_type": "fragment"
    }
   },
   "source": [
    "Luego calculamos el Classification Error"
   ]
  },
  {
   "cell_type": "code",
   "execution_count": 38,
   "metadata": {
    "slideshow": {
     "slide_type": "fragment"
    }
   },
   "outputs": [
    {
     "data": {
      "text/html": [
       "0.270114942528736"
      ],
      "text/latex": [
       "0.270114942528736"
      ],
      "text/markdown": [
       "0.270114942528736"
      ],
      "text/plain": [
       "[1] 0.2701149"
      ]
     },
     "metadata": {},
     "output_type": "display_data"
    }
   ],
   "source": [
    "acc <- sum(diag(conf_matrix))/nrow(test)\n",
    "miss_class <- 1 - acc\n",
    "miss_class"
   ]
  }
 ],
 "metadata": {
  "celltoolbar": "Slideshow",
  "kernelspec": {
   "display_name": "R",
   "language": "R",
   "name": "ir"
  },
  "language_info": {
   "codemirror_mode": "r",
   "file_extension": ".r",
   "mimetype": "text/x-r-source",
   "name": "R",
   "pygments_lexer": "r",
   "version": "3.6.1"
  }
 },
 "nbformat": 4,
 "nbformat_minor": 2
}
